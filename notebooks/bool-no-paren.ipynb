{
 "cells": [
  {
   "cell_type": "markdown",
   "id": "17d26c1d-1b14-49f5-914d-6a91c2a81f7e",
   "metadata": {},
   "source": [
    "# Bool No Paren"
   ]
  },
  {
   "cell_type": "code",
   "execution_count": 48,
   "id": "d0f48a29-7616-4ad2-8b09-6973050cc2d3",
   "metadata": {},
   "outputs": [],
   "source": [
    "import re\n",
    "import os\n",
    "import pickle\n",
    "import seaborn as sns\n",
    "import matplotlib.pyplot as plt\n",
    "from pathlib import Path\n",
    "\n",
    "from itertools import product\n",
    "import numpy as np\n",
    "import pandas as pd"
   ]
  },
  {
   "cell_type": "code",
   "execution_count": 3,
   "id": "517466e4-a81e-4c48-8d1c-edf9dcd80d2d",
   "metadata": {},
   "outputs": [],
   "source": [
    "sns.set_theme()\n",
    "sns.set_style(\"whitegrid\")\n",
    "plt.style.use(\"alan.mplstyle\")\n",
    "ROOT = Path(\"../src/experiments/data/bool-no-paren\")"
   ]
  },
  {
   "cell_type": "code",
   "execution_count": 28,
   "id": "9f5c801c-dcc8-43cd-986f-b06f41b18f95",
   "metadata": {},
   "outputs": [],
   "source": [
    "modes = [\"all\", \"only-not\", \"not-or\", \"and-not\"]"
   ]
  },
  {
   "cell_type": "code",
   "execution_count": 36,
   "id": "b103ca23-535d-443d-940f-99a9b669a438",
   "metadata": {},
   "outputs": [],
   "source": [
    "results = dict()\n",
    "for m in modes:\n",
    "    p = pickle.load(open(ROOT / f\"phi-1_5-{m}-benchmark.pkl\", \"rb\"))\n",
    "    results[m] = p"
   ]
  },
  {
   "cell_type": "code",
   "execution_count": 37,
   "id": "faa5aeef-2b44-4978-a034-8223637bdde5",
   "metadata": {},
   "outputs": [],
   "source": [
    "scores = dict()\n",
    "\n",
    "for k, v in results.items():\n",
    "    scores[k] = sum([o == t for o, t in zip(results[k][\"output\"], results[k][\"target\"])]) / len(results[k][\"output\"])"
   ]
  },
  {
   "cell_type": "code",
   "execution_count": 38,
   "id": "948248a7-b5eb-42ba-8f0f-c5e817df8ef9",
   "metadata": {},
   "outputs": [
    {
     "data": {
      "text/plain": [
       "{'all': 0.684,\n",
       " 'only-not': 0.3125,\n",
       " 'not-or': 0.7676470588235295,\n",
       " 'and-not': 0.8132352941176471}"
      ]
     },
     "execution_count": 38,
     "metadata": {},
     "output_type": "execute_result"
    }
   ],
   "source": [
    "scores"
   ]
  },
  {
   "cell_type": "code",
   "execution_count": 43,
   "id": "2e4a9577-96c1-4d05-95e3-7de193539964",
   "metadata": {},
   "outputs": [
    {
     "name": "stdout",
     "output_type": "stream",
     "text": [
      "16\n"
     ]
    }
   ],
   "source": [
    "print(len(results[\"only-not\"][\"input\"]))"
   ]
  },
  {
   "cell_type": "code",
   "execution_count": 47,
   "id": "15c68a12-8773-4679-8ae1-8eff8fe9b103",
   "metadata": {},
   "outputs": [
    {
     "name": "stdout",
     "output_type": "stream",
     "text": [
      "<|endoftext|><|endoftext|><|endoftext|>Evaluate Boolean expressions.\n",
      "\n",
      "not not not not not not not True is False.\n",
      "\n",
      "not not not not not not False is False.\n",
      "\n",
      "not not not not not not not False is True.\n",
      "\n",
      "not False is \n",
      "--------\n",
      "output:  False | target:  True\n",
      "<|endoftext|><|endoftext|><|endoftext|>Evaluate Boolean expressions.\n",
      "\n",
      "not True is False.\n",
      "\n",
      "not not not not not not not False is True.\n",
      "\n",
      "not not not not not True is False.\n",
      "\n",
      "not not not not not not not not False is \n",
      "--------\n",
      "output:  True | target:  False\n",
      "<|endoftext|><|endoftext|><|endoftext|><|endoftext|><|endoftext|><|endoftext|><|endoftext|><|endoftext|>Evaluate Boolean expressions.\n",
      "\n",
      "not not not not not not False is False.\n",
      "\n",
      "not not False is False.\n",
      "\n",
      "not True is False.\n",
      "\n",
      "not not not not not not not False is \n",
      "--------\n",
      "output:  False | target:  True\n",
      "<|endoftext|><|endoftext|><|endoftext|><|endoftext|><|endoftext|><|endoftext|><|endoftext|><|endoftext|><|endoftext|>Evaluate Boolean expressions.\n",
      "\n",
      "not not not not not not not True is False.\n",
      "\n",
      "not not False is False.\n",
      "\n",
      "not not not not False is False.\n",
      "\n",
      "not not True is \n",
      "--------\n",
      "output:  False | target:  True\n",
      "<|endoftext|>Evaluate Boolean expressions.\n",
      "\n",
      "not not not not not not not not True is True.\n",
      "\n",
      "not not True is True.\n",
      "\n",
      "not not not not not not not not False is False.\n",
      "\n",
      "not not not not not False is \n",
      "--------\n",
      "output:  False | target:  True\n",
      "<|endoftext|><|endoftext|><|endoftext|><|endoftext|><|endoftext|><|endoftext|><|endoftext|><|endoftext|><|endoftext|><|endoftext|><|endoftext|><|endoftext|>Evaluate Boolean expressions.\n",
      "\n",
      "not not not not not not not False is True.\n",
      "\n",
      "not False is True.\n",
      "\n",
      "not not not not not False is True.\n",
      "\n",
      "not not not not not not False is \n",
      "--------\n",
      "output:  True | target:  False\n",
      "<|endoftext|><|endoftext|><|endoftext|><|endoftext|><|endoftext|><|endoftext|><|endoftext|><|endoftext|><|endoftext|><|endoftext|><|endoftext|><|endoftext|><|endoftext|><|endoftext|><|endoftext|><|endoftext|>Evaluate Boolean expressions.\n",
      "\n",
      "not not not not not not not False is True.\n",
      "\n",
      "not not not True is False.\n",
      "\n",
      "not True is False.\n",
      "\n",
      "not not not not True is \n",
      "--------\n",
      "output:  False | target:  True\n",
      "<|endoftext|><|endoftext|><|endoftext|><|endoftext|><|endoftext|><|endoftext|><|endoftext|><|endoftext|><|endoftext|><|endoftext|><|endoftext|><|endoftext|><|endoftext|><|endoftext|><|endoftext|><|endoftext|><|endoftext|><|endoftext|><|endoftext|>Evaluate Boolean expressions.\n",
      "\n",
      "not False is True.\n",
      "\n",
      "not not not False is True.\n",
      "\n",
      "not not not not not True is False.\n",
      "\n",
      "not not not False is \n",
      "--------\n",
      "output:  False | target:  True\n",
      "<|endoftext|><|endoftext|><|endoftext|><|endoftext|><|endoftext|><|endoftext|><|endoftext|><|endoftext|><|endoftext|><|endoftext|><|endoftext|><|endoftext|><|endoftext|>Evaluate Boolean expressions.\n",
      "\n",
      "not not not not not not not False is True.\n",
      "\n",
      "not not not not False is False.\n",
      "\n",
      "not not not not not False is True.\n",
      "\n",
      "not not False is \n",
      "--------\n",
      "output:  True | target:  False\n",
      "<|endoftext|><|endoftext|><|endoftext|><|endoftext|><|endoftext|><|endoftext|><|endoftext|><|endoftext|><|endoftext|><|endoftext|><|endoftext|><|endoftext|><|endoftext|>Evaluate Boolean expressions.\n",
      "\n",
      "not not not False is True.\n",
      "\n",
      "not not not not True is True.\n",
      "\n",
      "not not not not not not not False is True.\n",
      "\n",
      "not not not not False is \n",
      "--------\n",
      "output:  True | target:  False\n",
      "<|endoftext|><|endoftext|>Evaluate Boolean expressions.\n",
      "\n",
      "not not not not not not not not False is False.\n",
      "\n",
      "not not not not not not not True is False.\n",
      "\n",
      "not not not not not not not not True is True.\n",
      "\n",
      "not not not not not not True is \n",
      "--------\n",
      "output:  False | target:  True\n"
     ]
    }
   ],
   "source": [
    "for i in range(len(results[\"only-not\"][\"input\"])):\n",
    "    t = results[\"only-not\"][\"target\"][i]\n",
    "    o = results[\"only-not\"][\"output\"][i]\n",
    "    inp = results[\"only-not\"][\"input\"][i]\n",
    "    if t != o:\n",
    "        print(inp)\n",
    "        print(\"--------\")\n",
    "        print(\"output: \", o, \"| target: \", t)\n"
   ]
  },
  {
   "cell_type": "code",
   "execution_count": null,
   "id": "f8afcf03-665b-4f99-9652-48221978a580",
   "metadata": {},
   "outputs": [],
   "source": []
  }
 ],
 "metadata": {
  "kernelspec": {
   "display_name": "Python 3 (ipykernel)",
   "language": "python",
   "name": "python3"
  },
  "language_info": {
   "codemirror_mode": {
    "name": "ipython",
    "version": 3
   },
   "file_extension": ".py",
   "mimetype": "text/x-python",
   "name": "python",
   "nbconvert_exporter": "python",
   "pygments_lexer": "ipython3",
   "version": "3.10.16"
  }
 },
 "nbformat": 4,
 "nbformat_minor": 5
}
