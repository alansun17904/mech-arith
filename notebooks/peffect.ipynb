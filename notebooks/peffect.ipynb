{
 "cells": [
  {
   "cell_type": "markdown",
   "id": "25b9b713-1494-4a81-a848-224f3a378b11",
   "metadata": {},
   "source": [
    "# Prompting Effectiveness"
   ]
  },
  {
   "cell_type": "code",
   "execution_count": 1,
   "id": "ea152643-b460-434e-8c35-a2ed1a6ca144",
   "metadata": {},
   "outputs": [],
   "source": [
    "import re\n",
    "import os\n",
    "import json\n",
    "import pickle\n",
    "import seaborn as sns\n",
    "import matplotlib.pyplot as plt\n",
    "from pathlib import Path\n",
    "\n",
    "import numpy as np\n",
    "import pandas as pd"
   ]
  },
  {
   "cell_type": "code",
   "execution_count": 5,
   "id": "aab58189-3ee0-4d5c-b32c-2ba0a3f82be0",
   "metadata": {},
   "outputs": [],
   "source": [
    "sns.set_theme()\n",
    "sns.set_style(\"whitegrid\")\n",
    "plt.style.use(\"alan.mplstyle\")\n",
    "ROOT = Path(\"../src/experiments/data/gemma-9b-prompting\")"
   ]
  },
  {
   "cell_type": "code",
   "execution_count": 6,
   "id": "2c4f52e8-0f24-40fd-a010-266444c81039",
   "metadata": {},
   "outputs": [],
   "source": [
    "import json\n",
    "import networkx as nx\n",
    "from matplotlib.colors import ListedColormap\n",
    "\n",
    "def rank_corr(df, method=\"spearman\"):\n",
    "    \"\"\"Expects a dataframe with circuit indices as columns and\n",
    "    the circuit components in the rows.\n",
    "    \"\"\"\n",
    "    return df.corr(method=method)\n",
    "    \n",
    "def connected_comps(rc, thresh, index2label):\n",
    "    \"\"\"Expects a rank correlation matrix, a threshold to determine\n",
    "    at what level are two circuits considered to be equal. Also takes\n",
    "    in a dictionary that maps the labels of the columns into their actual\n",
    "    labels.\n",
    "    \"\"\"\n",
    "    adj = rc >= thresh\n",
    "    G = nx.from_numpy_array(adj)\n",
    "    components = list(nx.connected_components(G))\n",
    "    components = [list(v) for v in components]\n",
    "    return components, [[index2label[v] for v in comp] for comp in components]\n",
    "\n",
    "def process_graph_file(fname):\n",
    "    f = json.load(open(fname, \"r\"))\n",
    "    return {k: v[\"score\"] for k,v in f[\"edges\"].items()}\n",
    "\n",
    "def cc_graph(ccs):\n",
    "    \"\"\"Visualizes the connected components as a graph.\n",
    "    \"\"\"\n",
    "    G = nx.Graph()\n",
    "    shape_l = 'os^v<>*pHD'\n",
    "    for comp_id, component in enumerate(ccs):\n",
    "        for node in component:\n",
    "            G.add_node(tuple(node), color=comp_id, node_shape=shape_l[comp_id % len(shape_l)])\n",
    "    for component in ccs:\n",
    "        for r, c in component:\n",
    "            neighbors = [(r+1, c), (r-1, c), (r, c+1), (r, c-1),(r-1,c+1), (r-1,c-1), (r+1,c-1), (r+1,c+1)]  # 4-neighbor adjacency\n",
    "            for neighbor in neighbors:\n",
    "                if neighbor in component:\n",
    "                    G.add_edge((r, c), neighbor)\n",
    "    spanning_trees = []\n",
    "    \n",
    "    for component in ccs:\n",
    "        # Create a subgraph for the component\n",
    "        subgraph = G.subgraph(component)\n",
    "        # Compute the minimum spanning tree (MST) for this subgraph\n",
    "        mst = nx.minimum_spanning_tree(subgraph)\n",
    "        spanning_trees.append(mst)\n",
    "    # Combine the spanning trees into a new graph\n",
    "    G_mst = nx.Graph()\n",
    "    for mst in spanning_trees:\n",
    "        G_mst.add_nodes_from(mst.nodes())\n",
    "        G_mst.add_edges_from(mst.edges())\n",
    "    plt.figure(figsize=(8, 8))\n",
    "    plt.axis(\"off\")\n",
    "    nshapes = {k: shape_l[G.nodes[k][\"color\"] % len(shape_l)] for k in G.nodes}\n",
    "    pos = {node: (node[1], -node[0]) for node in G_mst.nodes}\n",
    "    colors = {n: G.nodes[n][\"color\"] for n in G_mst.nodes}\n",
    "    nlabels = {k: f\"{k[0]},{k[1]}\" for k in G.nodes}\n",
    "    cmap = ListedColormap(sns.color_palette(\"hls\", len(ccs)))\n",
    "    for node, shape in nshapes.items():\n",
    "        nx.draw_networkx_nodes(G_mst, pos, nodelist=[node], node_size=600, node_shape=shape, node_color=cmap(colors[node]))\n",
    "    \n",
    "    # Draw the edges\n",
    "    nx.draw_networkx_edges(G_mst, pos, width=5)\n",
    "    nx.draw_networkx_labels(G_mst, pos, labels=nlabels, font_size=7, font_weight=\"bold\")"
   ]
  },
  {
   "cell_type": "code",
   "execution_count": 7,
   "id": "40fb5488-5685-4676-a370-181335b09821",
   "metadata": {},
   "outputs": [],
   "source": [
    "dataset = \"sports\"\n",
    "ranges = list(range(0,5))"
   ]
  },
  {
   "cell_type": "code",
   "execution_count": null,
   "id": "05874c40-5e0f-4a45-9e72-0f8e28f44086",
   "metadata": {},
   "outputs": [],
   "source": []
  }
 ],
 "metadata": {
  "kernelspec": {
   "display_name": "Python 3 (ipykernel)",
   "language": "python",
   "name": "python3"
  },
  "language_info": {
   "codemirror_mode": {
    "name": "ipython",
    "version": 3
   },
   "file_extension": ".py",
   "mimetype": "text/x-python",
   "name": "python",
   "nbconvert_exporter": "python",
   "pygments_lexer": "ipython3",
   "version": "3.10.16"
  }
 },
 "nbformat": 4,
 "nbformat_minor": 5
}
