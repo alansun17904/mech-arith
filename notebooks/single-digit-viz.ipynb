{
 "cells": [
  {
   "cell_type": "markdown",
   "id": "fd873fb9-0284-48a2-8c31-67292e379567",
   "metadata": {},
   "source": [
    "# Single Digit Memorization Visualizations"
   ]
  },
  {
   "cell_type": "code",
   "execution_count": 1,
   "id": "3de5d831-2a7e-4beb-b263-4c07013526ab",
   "metadata": {},
   "outputs": [],
   "source": [
    "import warnings\n",
    "warnings.simplefilter(action='ignore', category=FutureWarning)"
   ]
  },
  {
   "cell_type": "code",
   "execution_count": 2,
   "id": "9b47b0df-aa81-4eb7-8be3-19a2c3be1e91",
   "metadata": {},
   "outputs": [],
   "source": [
    "import matplotlib.pyplot as plt"
   ]
  },
  {
   "cell_type": "code",
   "execution_count": 3,
   "id": "490e8c70-0914-4769-8521-8cd6b6317a89",
   "metadata": {},
   "outputs": [],
   "source": [
    "import os"
   ]
  },
  {
   "cell_type": "code",
   "execution_count": 4,
   "id": "d2155929-f541-4b72-8cb6-50db176c47b7",
   "metadata": {},
   "outputs": [],
   "source": [
    "import torch\n",
    "import pickle\n",
    "import networkx as nx\n",
    "import seaborn as sns\n",
    "\n",
    "import circuit_visual as cv"
   ]
  },
  {
   "cell_type": "code",
   "execution_count": 5,
   "id": "ed394d7c-1553-4694-a6de-3a14874b3ee9",
   "metadata": {},
   "outputs": [],
   "source": [
    "# get all of the tasks that have been patched\n",
    "tasks = os.listdir(\"../data/patching_circuit\")\n",
    "tasks = set(map(lambda x: x[0:3], tasks))"
   ]
  },
  {
   "cell_type": "code",
   "execution_count": 6,
   "id": "62622b2a-dacf-4abe-998e-6e28e0de0c33",
   "metadata": {
    "scrolled": true
   },
   "outputs": [],
   "source": [
    "for task in tasks:\n",
    "    attn_patching = pickle.load(open(f\"../data/patching_circuit/{task}-all_blocks.pkl\", \"rb\"))\n",
    "    # sns.heatmap(attn_patching, cmap=\"viridis\", vmin=0)\n",
    "    heads = cv.get_top_attn_heads(attn_patching, 0.05)\n",
    "    nodes, edges, vals = cv.attn_heads_multipartite(heads)\n",
    "    G, pos, cvals = cv.make_circuit_graph(nodes, edges, vals, color=\"viridis\", scale=1.5)\n",
    "    plt.figure(figsize=(3, 10))\n",
    "    ax = plt.gca()\n",
    "    nx.draw_networkx_edges(G, pos, arrows=True, width=1, arrowsize=10)\n",
    "    \n",
    "    for node, in zip(G.nodes()):\n",
    "        color = \"white\" if \"MLP\" in node else cvals[node]\n",
    "        cv.draw_rounded_node(ax, pos, node, color, width=0.18, height=0.05)\n",
    "    \n",
    "    # plt.autoscale()\n",
    "    ax.axis('off')\n",
    "    plt.axis(\"scaled\")\n",
    "    \n",
    "    plt.savefig(f\"{task}-circuit.pdf\")\n",
    "    plt.close()"
   ]
  },
  {
   "cell_type": "code",
   "execution_count": null,
   "id": "3d3912ed-87e7-49d8-9647-68be70ce652e",
   "metadata": {},
   "outputs": [],
   "source": [
    "# plot the covariance\n",
    "\n",
    "attn_scores = {}\n",
    "\n",
    "for task in tasks:\n",
    "    attn_patching = pickle.load(open(f\"../data/patching_circuit/{task}-all_blocks.pkl\", \"rb\"))\n",
    "    attn_scores[task] = attn_patching"
   ]
  },
  {
   "cell_type": "code",
   "execution_count": null,
   "id": "449e913b-31ae-4bd1-9c83-b3d04b9d3c2a",
   "metadata": {},
   "outputs": [],
   "source": [
    "import numpy as np"
   ]
  },
  {
   "cell_type": "code",
   "execution_count": null,
   "id": "aaceff1d-d0ba-4487-8cba-3c5e79829ecf",
   "metadata": {},
   "outputs": [],
   "source": [
    "hm = np.zeros((len(attn_scores), len(attn_scores)))\n",
    "\n",
    "keys = list(attn_scores.keys())\n",
    "\n",
    "keys.sort(key=lambda x : (int(x[0]), int(x[2])))\n",
    "\n",
    "for i, k1 in enumerate(keys):\n",
    "    for j, k2 in enumerate(keys):\n",
    "        v1 = attn_scores[k1].flatten()\n",
    "        v2 = attn_scores[k2].flatten()\n",
    "        pc = np.corrcoef(v1, v2)[0,1] ** 2\n",
    "        hm[i,j] = pc"
   ]
  },
  {
   "cell_type": "code",
   "execution_count": null,
   "id": "6793e3ae-5615-4abf-9288-f54911410363",
   "metadata": {},
   "outputs": [],
   "source": [
    "plt.figure(figsize=(13,10))\n",
    "\n",
    "ax = sns.heatmap(hm, vmin=0, vmax=0.4)\n",
    "ax.set_yticks(range(len(keys)))\n",
    "ax.set_xticks(range(len(keys)))\n",
    "ax.set_yticklabels(keys)\n",
    "ax.set_xticklabels(keys)\n",
    "plt.xticks(rotation=90)\n",
    "plt.yticks(rotation=0)\n",
    "plt.savefig(\"pearson-corr.pdf\")"
   ]
  },
  {
   "cell_type": "code",
   "execution_count": null,
   "id": "ef8a4851-fe57-4302-82d7-1e43a55761f7",
   "metadata": {},
   "outputs": [],
   "source": []
  }
 ],
 "metadata": {
  "kernelspec": {
   "display_name": "Python 3 (ipykernel)",
   "language": "python",
   "name": "python3"
  },
  "language_info": {
   "codemirror_mode": {
    "name": "ipython",
    "version": 3
   },
   "file_extension": ".py",
   "mimetype": "text/x-python",
   "name": "python",
   "nbconvert_exporter": "python",
   "pygments_lexer": "ipython3",
   "version": "3.12.2"
  }
 },
 "nbformat": 4,
 "nbformat_minor": 5
}
