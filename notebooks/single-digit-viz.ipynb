{
 "cells": [
  {
   "cell_type": "markdown",
   "id": "fd873fb9-0284-48a2-8c31-67292e379567",
   "metadata": {},
   "source": [
    "# Single Digit Memorization Visualizations"
   ]
  },
  {
   "cell_type": "code",
   "execution_count": 128,
   "id": "d2155929-f541-4b72-8cb6-50db176c47b7",
   "metadata": {},
   "outputs": [],
   "source": [
    "import torch\n",
    "import pickle\n",
    "import seaborn as sns\n",
    "import matplotlib.pyplot as plt\n",
    "\n",
    "from transformer_lens import HookedTransformer"
   ]
  },
  {
   "cell_type": "code",
   "execution_count": 108,
   "id": "fd9c2a70-2d2e-420b-aa50-cbde4c622db6",
   "metadata": {},
   "outputs": [],
   "source": [
    "sns.set_theme()\n",
    "sns.set_style(\"whitegrid\")\n",
    "plt.style.use(\"alan.mplstyle\")"
   ]
  },
  {
   "cell_type": "code",
   "execution_count": 25,
   "id": "a501dfcf-b122-4de3-82bd-5b356a28a8cd",
   "metadata": {},
   "outputs": [
    {
     "name": "stderr",
     "output_type": "stream",
     "text": [
      "`config.hidden_act` is ignored, you should use `config.hidden_activation` instead.\n",
      "Gemma's activation function will be set to `gelu_pytorch_tanh`. Please, use\n",
      "`config.hidden_activation` if you want to override this behaviour.\n",
      "See https://github.com/huggingface/transformers/pull/29402 for more details.\n"
     ]
    },
    {
     "data": {
      "application/vnd.jupyter.widget-view+json": {
       "model_id": "25f3d554a4b94d3abe7dd1ba64f0ce09",
       "version_major": 2,
       "version_minor": 0
      },
      "text/plain": [
       "Loading checkpoint shards:   0%|          | 0/2 [00:00<?, ?it/s]"
      ]
     },
     "metadata": {},
     "output_type": "display_data"
    },
    {
     "name": "stderr",
     "output_type": "stream",
     "text": [
      "WARNING:root:You are not using LayerNorm, so the writing weights can't be centered! Skipping\n"
     ]
    },
    {
     "name": "stdout",
     "output_type": "stream",
     "text": [
      "Loaded pretrained model gemma-2b into HookedTransformer\n"
     ]
    }
   ],
   "source": [
    "m = HookedTransformer.from_pretrained(\"gemma-2b\")"
   ]
  },
  {
   "cell_type": "code",
   "execution_count": 136,
   "id": "3d15fbd7-8ebc-4a83-a43a-f5f372466d78",
   "metadata": {},
   "outputs": [],
   "source": [
    "prob = pickle.load(open(\"../probs.pkl\", \"rb\"))\n",
    "all_block_results = pickle.load(open(\"../all_blocks.pkl\", \"rb\"))\n",
    "clean_logits = pickle.load(open(\"../all_clean_logits.pkl\", \"rb\"))"
   ]
  },
  {
   "cell_type": "code",
   "execution_count": 137,
   "id": "d0ffd442-dbb4-4e7e-b328-9a784c9e5285",
   "metadata": {},
   "outputs": [],
   "source": [
    "labels = m.to_str_tokens(prob)"
   ]
  },
  {
   "cell_type": "code",
   "execution_count": 138,
   "id": "6021957c-2218-4674-be4c-1108f522ff31",
   "metadata": {
    "scrolled": true
   },
   "outputs": [
    {
     "data": {
      "text/plain": [
       "[['<bos>', '2', ' +', ' ', '1', ' =', ' ', '3'],\n",
       " ['<bos>', '5', ' +', ' ', '4', ' =', ' ', '9'],\n",
       " ['<bos>', '4', ' +', ' ', '3', ' =', ' ', '7'],\n",
       " ['<bos>', '2', ' +', ' ', '7', ' =', ' ', '9'],\n",
       " ['<bos>', '1', ' +', ' ', '1', ' =', ' ', '2'],\n",
       " ['<bos>', '2', ' +', ' ', '4', ' =', ' ', '6'],\n",
       " ['<bos>', '1', ' +', ' ', '3', ' =', ' ', '4'],\n",
       " ['<bos>', '5', ' +', ' ', '3', ' =', ' ', '8'],\n",
       " ['<bos>', '2', ' +', ' ', '2', ' =', ' ', '4'],\n",
       " ['<bos>', '7', ' +', ' ', '2', ' =', ' ', '9'],\n",
       " ['<bos>', '5', ' +', ' ', '1', ' =', ' ', '6'],\n",
       " ['<bos>', '2', ' +', ' ', '7', ' =', ' ', '9'],\n",
       " ['<bos>', '4', ' +', ' ', '2', ' =', ' ', '6'],\n",
       " ['<bos>', '1', ' +', ' ', '4', ' =', ' ', '5'],\n",
       " ['<bos>', '5', ' +', ' ', '2', ' =', ' ', '7'],\n",
       " ['<bos>', '4', ' +', ' ', '2', ' =', ' ', '6'],\n",
       " ['<bos>', '3', ' +', ' ', '6', ' =', ' ', '9'],\n",
       " ['<bos>', '5', ' +', ' ', '2', ' =', ' ', '7'],\n",
       " ['<bos>', '4', ' +', ' ', '3', ' =', ' ', '7'],\n",
       " ['<bos>', '1', ' +', ' ', '4', ' =', ' ', '5'],\n",
       " ['<bos>', '1', ' +', ' ', '6', ' =', ' ', '7'],\n",
       " ['<bos>', '2', ' +', ' ', '4', ' =', ' ', '6'],\n",
       " ['<bos>', '5', ' +', ' ', '3', ' =', ' ', '8'],\n",
       " ['<bos>', '1', ' +', ' ', '2', ' =', ' ', '3'],\n",
       " ['<bos>', '3', ' +', ' ', '3', ' =', ' ', '6'],\n",
       " ['<bos>', '7', ' +', ' ', '2', ' =', ' ', '9'],\n",
       " ['<bos>', '1', ' +', ' ', '2', ' =', ' ', '3'],\n",
       " ['<bos>', '6', ' +', ' ', '2', ' =', ' ', '8'],\n",
       " ['<bos>', '1', ' +', ' ', '5', ' =', ' ', '6'],\n",
       " ['<bos>', '4', ' +', ' ', '3', ' =', ' ', '7'],\n",
       " ['<bos>', '6', ' +', ' ', '3', ' =', ' ', '9'],\n",
       " ['<bos>', '1', ' +', ' ', '6', ' =', ' ', '7'],\n",
       " ['<bos>', '8', ' +', ' ', '1', ' =', ' ', '9'],\n",
       " ['<bos>', '2', ' +', ' ', '6', ' =', ' ', '8'],\n",
       " ['<bos>', '5', ' +', ' ', '4', ' =', ' ', '9'],\n",
       " ['<bos>', '1', ' +', ' ', '4', ' =', ' ', '5'],\n",
       " ['<bos>', '2', ' +', ' ', '2', ' =', ' ', '4'],\n",
       " ['<bos>', '2', ' +', ' ', '4', ' =', ' ', '6'],\n",
       " ['<bos>', '4', ' +', ' ', '2', ' =', ' ', '6'],\n",
       " ['<bos>', '6', ' +', ' ', '1', ' =', ' ', '7'],\n",
       " ['<bos>', '4', ' +', ' ', '1', ' =', ' ', '5'],\n",
       " ['<bos>', '2', ' +', ' ', '1', ' =', ' ', '3'],\n",
       " ['<bos>', '4', ' +', ' ', '2', ' =', ' ', '6'],\n",
       " ['<bos>', '1', ' +', ' ', '6', ' =', ' ', '7'],\n",
       " ['<bos>', '4', ' +', ' ', '5', ' =', ' ', '9'],\n",
       " ['<bos>', '4', ' +', ' ', '2', ' =', ' ', '6'],\n",
       " ['<bos>', '2', ' +', ' ', '7', ' =', ' ', '9'],\n",
       " ['<bos>', '1', ' +', ' ', '2', ' =', ' ', '3'],\n",
       " ['<bos>', '1', ' +', ' ', '7', ' =', ' ', '8'],\n",
       " ['<bos>', '6', ' +', ' ', '2', ' =', ' ', '8'],\n",
       " ['<bos>', '4', ' +', ' ', '4', ' =', ' ', '8'],\n",
       " ['<bos>', '4', ' +', ' ', '2', ' =', ' ', '6'],\n",
       " ['<bos>', '2', ' +', ' ', '1', ' =', ' ', '3'],\n",
       " ['<bos>', '2', ' +', ' ', '4', ' =', ' ', '6'],\n",
       " ['<bos>', '1', ' +', ' ', '3', ' =', ' ', '4'],\n",
       " ['<bos>', '7', ' +', ' ', '1', ' =', ' ', '8'],\n",
       " ['<bos>', '4', ' +', ' ', '5', ' =', ' ', '9'],\n",
       " ['<bos>', '4', ' +', ' ', '1', ' =', ' ', '5'],\n",
       " ['<bos>', '6', ' +', ' ', '1', ' =', ' ', '7'],\n",
       " ['<bos>', '1', ' +', ' ', '8', ' =', ' ', '9'],\n",
       " ['<bos>', '3', ' +', ' ', '1', ' =', ' ', '4'],\n",
       " ['<bos>', '3', ' +', ' ', '2', ' =', ' ', '5'],\n",
       " ['<bos>', '2', ' +', ' ', '4', ' =', ' ', '6'],\n",
       " ['<bos>', '7', ' +', ' ', '2', ' =', ' ', '9'],\n",
       " ['<bos>', '4', ' +', ' ', '1', ' =', ' ', '5'],\n",
       " ['<bos>', '2', ' +', ' ', '7', ' =', ' ', '9'],\n",
       " ['<bos>', '5', ' +', ' ', '4', ' =', ' ', '9'],\n",
       " ['<bos>', '3', ' +', ' ', '5', ' =', ' ', '8'],\n",
       " ['<bos>', '2', ' +', ' ', '1', ' =', ' ', '3'],\n",
       " ['<bos>', '5', ' +', ' ', '3', ' =', ' ', '8'],\n",
       " ['<bos>', '6', ' +', ' ', '2', ' =', ' ', '8'],\n",
       " ['<bos>', '5', ' +', ' ', '3', ' =', ' ', '8'],\n",
       " ['<bos>', '5', ' +', ' ', '2', ' =', ' ', '7'],\n",
       " ['<bos>', '3', ' +', ' ', '5', ' =', ' ', '8'],\n",
       " ['<bos>', '2', ' +', ' ', '2', ' =', ' ', '4'],\n",
       " ['<bos>', '4', ' +', ' ', '5', ' =', ' ', '9'],\n",
       " ['<bos>', '5', ' +', ' ', '1', ' =', ' ', '6'],\n",
       " ['<bos>', '2', ' +', ' ', '7', ' =', ' ', '9'],\n",
       " ['<bos>', '5', ' +', ' ', '1', ' =', ' ', '6'],\n",
       " ['<bos>', '1', ' +', ' ', '6', ' =', ' ', '7'],\n",
       " ['<bos>', '3', ' +', ' ', '5', ' =', ' ', '8'],\n",
       " ['<bos>', '2', ' +', ' ', '2', ' =', ' ', '4'],\n",
       " ['<bos>', '1', ' +', ' ', '6', ' =', ' ', '7'],\n",
       " ['<bos>', '1', ' +', ' ', '5', ' =', ' ', '6'],\n",
       " ['<bos>', '6', ' +', ' ', '1', ' =', ' ', '7'],\n",
       " ['<bos>', '4', ' +', ' ', '2', ' =', ' ', '6'],\n",
       " ['<bos>', '4', ' +', ' ', '3', ' =', ' ', '7'],\n",
       " ['<bos>', '1', ' +', ' ', '3', ' =', ' ', '4'],\n",
       " ['<bos>', '4', ' +', ' ', '5', ' =', ' ', '9'],\n",
       " ['<bos>', '3', ' +', ' ', '2', ' =', ' ', '5'],\n",
       " ['<bos>', '7', ' +', ' ', '1', ' =', ' ', '8'],\n",
       " ['<bos>', '4', ' +', ' ', '4', ' =', ' ', '8'],\n",
       " ['<bos>', '1', ' +', ' ', '4', ' =', ' ', '5'],\n",
       " ['<bos>', '5', ' +', ' ', '2', ' =', ' ', '7'],\n",
       " ['<bos>', '1', ' +', ' ', '2', ' =', ' ', '3'],\n",
       " ['<bos>', '5', ' +', ' ', '3', ' =', ' ', '8'],\n",
       " ['<bos>', '5', ' +', ' ', '1', ' =', ' ', '6'],\n",
       " ['<bos>', '2', ' +', ' ', '7', ' =', ' ', '9'],\n",
       " ['<bos>', '2', ' +', ' ', '7', ' =', ' ', '9'],\n",
       " ['<bos>', '4', ' +', ' ', '5', ' =', ' ', '9'],\n",
       " ['<bos>', '1', ' +', ' ', '7', ' =', ' ', '8'],\n",
       " ['<bos>', '2', ' +', ' ', '6', ' =', ' ', '8'],\n",
       " ['<bos>', '6', ' +', ' ', '2', ' =', ' ', '8'],\n",
       " ['<bos>', '3', ' +', ' ', '4', ' =', ' ', '7'],\n",
       " ['<bos>', '3', ' +', ' ', '5', ' =', ' ', '8'],\n",
       " ['<bos>', '1', ' +', ' ', '5', ' =', ' ', '6'],\n",
       " ['<bos>', '5', ' +', ' ', '4', ' =', ' ', '9'],\n",
       " ['<bos>', '3', ' +', ' ', '2', ' =', ' ', '5'],\n",
       " ['<bos>', '6', ' +', ' ', '2', ' =', ' ', '8'],\n",
       " ['<bos>', '4', ' +', ' ', '5', ' =', ' ', '9'],\n",
       " ['<bos>', '4', ' +', ' ', '4', ' =', ' ', '8'],\n",
       " ['<bos>', '3', ' +', ' ', '1', ' =', ' ', '4'],\n",
       " ['<bos>', '1', ' +', ' ', '4', ' =', ' ', '5'],\n",
       " ['<bos>', '4', ' +', ' ', '3', ' =', ' ', '7'],\n",
       " ['<bos>', '1', ' +', ' ', '2', ' =', ' ', '3'],\n",
       " ['<bos>', '8', ' +', ' ', '1', ' =', ' ', '9'],\n",
       " ['<bos>', '4', ' +', ' ', '5', ' =', ' ', '9'],\n",
       " ['<bos>', '4', ' +', ' ', '5', ' =', ' ', '9'],\n",
       " ['<bos>', '5', ' +', ' ', '4', ' =', ' ', '9'],\n",
       " ['<bos>', '2', ' +', ' ', '3', ' =', ' ', '5'],\n",
       " ['<bos>', '3', ' +', ' ', '4', ' =', ' ', '7'],\n",
       " ['<bos>', '4', ' +', ' ', '2', ' =', ' ', '6'],\n",
       " ['<bos>', '1', ' +', ' ', '4', ' =', ' ', '5'],\n",
       " ['<bos>', '1', ' +', ' ', '7', ' =', ' ', '8'],\n",
       " ['<bos>', '8', ' +', ' ', '1', ' =', ' ', '9'],\n",
       " ['<bos>', '4', ' +', ' ', '5', ' =', ' ', '9'],\n",
       " ['<bos>', '1', ' +', ' ', '7', ' =', ' ', '8'],\n",
       " ['<bos>', '1', ' +', ' ', '7', ' =', ' ', '8'],\n",
       " ['<bos>', '1', ' +', ' ', '2', ' =', ' ', '3'],\n",
       " ['<bos>', '1', ' +', ' ', '5', ' =', ' ', '6'],\n",
       " ['<bos>', '1', ' +', ' ', '6', ' =', ' ', '7'],\n",
       " ['<bos>', '4', ' +', ' ', '2', ' =', ' ', '6'],\n",
       " ['<bos>', '1', ' +', ' ', '1', ' =', ' ', '2'],\n",
       " ['<bos>', '4', ' +', ' ', '4', ' =', ' ', '8'],\n",
       " ['<bos>', '1', ' +', ' ', '3', ' =', ' ', '4'],\n",
       " ['<bos>', '4', ' +', ' ', '3', ' =', ' ', '7'],\n",
       " ['<bos>', '3', ' +', ' ', '2', ' =', ' ', '5'],\n",
       " ['<bos>', '3', ' +', ' ', '5', ' =', ' ', '8'],\n",
       " ['<bos>', '2', ' +', ' ', '1', ' =', ' ', '3'],\n",
       " ['<bos>', '2', ' +', ' ', '4', ' =', ' ', '6'],\n",
       " ['<bos>', '2', ' +', ' ', '5', ' =', ' ', '7'],\n",
       " ['<bos>', '2', ' +', ' ', '1', ' =', ' ', '3'],\n",
       " ['<bos>', '6', ' +', ' ', '1', ' =', ' ', '7'],\n",
       " ['<bos>', '2', ' +', ' ', '7', ' =', ' ', '9'],\n",
       " ['<bos>', '2', ' +', ' ', '5', ' =', ' ', '7'],\n",
       " ['<bos>', '6', ' +', ' ', '1', ' =', ' ', '7'],\n",
       " ['<bos>', '2', ' +', ' ', '4', ' =', ' ', '6'],\n",
       " ['<bos>', '8', ' +', ' ', '1', ' =', ' ', '9'],\n",
       " ['<bos>', '2', ' +', ' ', '5', ' =', ' ', '7'],\n",
       " ['<bos>', '4', ' +', ' ', '5', ' =', ' ', '9'],\n",
       " ['<bos>', '5', ' +', ' ', '4', ' =', ' ', '9'],\n",
       " ['<bos>', '2', ' +', ' ', '4', ' =', ' ', '6'],\n",
       " ['<bos>', '6', ' +', ' ', '2', ' =', ' ', '8'],\n",
       " ['<bos>', '4', ' +', ' ', '4', ' =', ' ', '8'],\n",
       " ['<bos>', '2', ' +', ' ', '4', ' =', ' ', '6'],\n",
       " ['<bos>', '5', ' +', ' ', '4', ' =', ' ', '9'],\n",
       " ['<bos>', '6', ' +', ' ', '3', ' =', ' ', '9'],\n",
       " ['<bos>', '5', ' +', ' ', '1', ' =', ' ', '6'],\n",
       " ['<bos>', '5', ' +', ' ', '1', ' =', ' ', '6'],\n",
       " ['<bos>', '5', ' +', ' ', '3', ' =', ' ', '8'],\n",
       " ['<bos>', '1', ' +', ' ', '5', ' =', ' ', '6'],\n",
       " ['<bos>', '3', ' +', ' ', '1', ' =', ' ', '4'],\n",
       " ['<bos>', '2', ' +', ' ', '2', ' =', ' ', '4'],\n",
       " ['<bos>', '2', ' +', ' ', '1', ' =', ' ', '3'],\n",
       " ['<bos>', '3', ' +', ' ', '3', ' =', ' ', '6'],\n",
       " ['<bos>', '5', ' +', ' ', '2', ' =', ' ', '7'],\n",
       " ['<bos>', '4', ' +', ' ', '2', ' =', ' ', '6'],\n",
       " ['<bos>', '1', ' +', ' ', '2', ' =', ' ', '3'],\n",
       " ['<bos>', '4', ' +', ' ', '4', ' =', ' ', '8'],\n",
       " ['<bos>', '5', ' +', ' ', '2', ' =', ' ', '7'],\n",
       " ['<bos>', '3', ' +', ' ', '4', ' =', ' ', '7'],\n",
       " ['<bos>', '2', ' +', ' ', '3', ' =', ' ', '5'],\n",
       " ['<bos>', '1', ' +', ' ', '7', ' =', ' ', '8'],\n",
       " ['<bos>', '5', ' +', ' ', '1', ' =', ' ', '6'],\n",
       " ['<bos>', '4', ' +', ' ', '5', ' =', ' ', '9'],\n",
       " ['<bos>', '2', ' +', ' ', '4', ' =', ' ', '6'],\n",
       " ['<bos>', '5', ' +', ' ', '4', ' =', ' ', '9'],\n",
       " ['<bos>', '7', ' +', ' ', '2', ' =', ' ', '9'],\n",
       " ['<bos>', '3', ' +', ' ', '5', ' =', ' ', '8'],\n",
       " ['<bos>', '3', ' +', ' ', '2', ' =', ' ', '5'],\n",
       " ['<bos>', '1', ' +', ' ', '3', ' =', ' ', '4'],\n",
       " ['<bos>', '2', ' +', ' ', '1', ' =', ' ', '3'],\n",
       " ['<bos>', '5', ' +', ' ', '1', ' =', ' ', '6'],\n",
       " ['<bos>', '2', ' +', ' ', '4', ' =', ' ', '6'],\n",
       " ['<bos>', '1', ' +', ' ', '5', ' =', ' ', '6'],\n",
       " ['<bos>', '1', ' +', ' ', '3', ' =', ' ', '4'],\n",
       " ['<bos>', '6', ' +', ' ', '2', ' =', ' ', '8'],\n",
       " ['<bos>', '3', ' +', ' ', '6', ' =', ' ', '9'],\n",
       " ['<bos>', '6', ' +', ' ', '2', ' =', ' ', '8'],\n",
       " ['<bos>', '1', ' +', ' ', '4', ' =', ' ', '5'],\n",
       " ['<bos>', '1', ' +', ' ', '4', ' =', ' ', '5'],\n",
       " ['<bos>', '3', ' +', ' ', '5', ' =', ' ', '8'],\n",
       " ['<bos>', '2', ' +', ' ', '1', ' =', ' ', '3'],\n",
       " ['<bos>', '4', ' +', ' ', '3', ' =', ' ', '7'],\n",
       " ['<bos>', '7', ' +', ' ', '2', ' =', ' ', '9'],\n",
       " ['<bos>', '4', ' +', ' ', '2', ' =', ' ', '6'],\n",
       " ['<bos>', '2', ' +', ' ', '5', ' =', ' ', '7'],\n",
       " ['<bos>', '1', ' +', ' ', '5', ' =', ' ', '6'],\n",
       " ['<bos>', '1', ' +', ' ', '6', ' =', ' ', '7'],\n",
       " ['<bos>', '8', ' +', ' ', '1', ' =', ' ', '9'],\n",
       " ['<bos>', '6', ' +', ' ', '2', ' =', ' ', '8'],\n",
       " ['<bos>', '1', ' +', ' ', '3', ' =', ' ', '4'],\n",
       " ['<bos>', '7', ' +', ' ', '2', ' =', ' ', '9'],\n",
       " ['<bos>', '1', ' +', ' ', '2', ' =', ' ', '3'],\n",
       " ['<bos>', '4', ' +', ' ', '5', ' =', ' ', '9'],\n",
       " ['<bos>', '4', ' +', ' ', '2', ' =', ' ', '6'],\n",
       " ['<bos>', '7', ' +', ' ', '2', ' =', ' ', '9'],\n",
       " ['<bos>', '3', ' +', ' ', '5', ' =', ' ', '8'],\n",
       " ['<bos>', '1', ' +', ' ', '1', ' =', ' ', '2'],\n",
       " ['<bos>', '6', ' +', ' ', '1', ' =', ' ', '7'],\n",
       " ['<bos>', '3', ' +', ' ', '4', ' =', ' ', '7'],\n",
       " ['<bos>', '3', ' +', ' ', '3', ' =', ' ', '6'],\n",
       " ['<bos>', '3', ' +', ' ', '2', ' =', ' ', '5'],\n",
       " ['<bos>', '5', ' +', ' ', '1', ' =', ' ', '6'],\n",
       " ['<bos>', '5', ' +', ' ', '1', ' =', ' ', '6'],\n",
       " ['<bos>', '1', ' +', ' ', '1', ' =', ' ', '2'],\n",
       " ['<bos>', '4', ' +', ' ', '4', ' =', ' ', '8'],\n",
       " ['<bos>', '5', ' +', ' ', '3', ' =', ' ', '8'],\n",
       " ['<bos>', '2', ' +', ' ', '1', ' =', ' ', '3'],\n",
       " ['<bos>', '1', ' +', ' ', '6', ' =', ' ', '7'],\n",
       " ['<bos>', '3', ' +', ' ', '2', ' =', ' ', '5'],\n",
       " ['<bos>', '4', ' +', ' ', '3', ' =', ' ', '7'],\n",
       " ['<bos>', '5', ' +', ' ', '3', ' =', ' ', '8'],\n",
       " ['<bos>', '2', ' +', ' ', '3', ' =', ' ', '5'],\n",
       " ['<bos>', '2', ' +', ' ', '7', ' =', ' ', '9'],\n",
       " ['<bos>', '1', ' +', ' ', '5', ' =', ' ', '6'],\n",
       " ['<bos>', '6', ' +', ' ', '2', ' =', ' ', '8'],\n",
       " ['<bos>', '2', ' +', ' ', '3', ' =', ' ', '5'],\n",
       " ['<bos>', '1', ' +', ' ', '1', ' =', ' ', '2'],\n",
       " ['<bos>', '2', ' +', ' ', '2', ' =', ' ', '4'],\n",
       " ['<bos>', '1', ' +', ' ', '6', ' =', ' ', '7'],\n",
       " ['<bos>', '6', ' +', ' ', '2', ' =', ' ', '8'],\n",
       " ['<bos>', '6', ' +', ' ', '1', ' =', ' ', '7'],\n",
       " ['<bos>', '4', ' +', ' ', '2', ' =', ' ', '6'],\n",
       " ['<bos>', '4', ' +', ' ', '1', ' =', ' ', '5'],\n",
       " ['<bos>', '1', ' +', ' ', '6', ' =', ' ', '7'],\n",
       " ['<bos>', '4', ' +', ' ', '3', ' =', ' ', '7'],\n",
       " ['<bos>', '4', ' +', ' ', '2', ' =', ' ', '6'],\n",
       " ['<bos>', '4', ' +', ' ', '4', ' =', ' ', '8'],\n",
       " ['<bos>', '6', ' +', ' ', '3', ' =', ' ', '9'],\n",
       " ['<bos>', '1', ' +', ' ', '5', ' =', ' ', '6'],\n",
       " ['<bos>', '3', ' +', ' ', '3', ' =', ' ', '6'],\n",
       " ['<bos>', '3', ' +', ' ', '2', ' =', ' ', '5'],\n",
       " ['<bos>', '1', ' +', ' ', '3', ' =', ' ', '4'],\n",
       " ['<bos>', '1', ' +', ' ', '6', ' =', ' ', '7'],\n",
       " ['<bos>', '1', ' +', ' ', '3', ' =', ' ', '4'],\n",
       " ['<bos>', '5', ' +', ' ', '1', ' =', ' ', '6'],\n",
       " ['<bos>', '4', ' +', ' ', '1', ' =', ' ', '5'],\n",
       " ['<bos>', '8', ' +', ' ', '1', ' =', ' ', '9'],\n",
       " ['<bos>', '1', ' +', ' ', '8', ' =', ' ', '9'],\n",
       " ['<bos>', '2', ' +', ' ', '6', ' =', ' ', '8'],\n",
       " ['<bos>', '3', ' +', ' ', '2', ' =', ' ', '5'],\n",
       " ['<bos>', '3', ' +', ' ', '5', ' =', ' ', '8'],\n",
       " ['<bos>', '2', ' +', ' ', '2', ' =', ' ', '4'],\n",
       " ['<bos>', '2', ' +', ' ', '6', ' =', ' ', '8'],\n",
       " ['<bos>', '2', ' +', ' ', '2', ' =', ' ', '4'],\n",
       " ['<bos>', '2', ' +', ' ', '2', ' =', ' ', '4'],\n",
       " ['<bos>', '7', ' +', ' ', '2', ' =', ' ', '9'],\n",
       " ['<bos>', '6', ' +', ' ', '3', ' =', ' ', '9'],\n",
       " ['<bos>', '6', ' +', ' ', '2', ' =', ' ', '8'],\n",
       " ['<bos>', '7', ' +', ' ', '1', ' =', ' ', '8'],\n",
       " ['<bos>', '6', ' +', ' ', '2', ' =', ' ', '8'],\n",
       " ['<bos>', '4', ' +', ' ', '2', ' =', ' ', '6'],\n",
       " ['<bos>', '6', ' +', ' ', '2', ' =', ' ', '8'],\n",
       " ['<bos>', '5', ' +', ' ', '4', ' =', ' ', '9'],\n",
       " ['<bos>', '5', ' +', ' ', '1', ' =', ' ', '6'],\n",
       " ['<bos>', '3', ' +', ' ', '5', ' =', ' ', '8'],\n",
       " ['<bos>', '6', ' +', ' ', '1', ' =', ' ', '7'],\n",
       " ['<bos>', '3', ' +', ' ', '3', ' =', ' ', '6'],\n",
       " ['<bos>', '7', ' +', ' ', '2', ' =', ' ', '9'],\n",
       " ['<bos>', '3', ' +', ' ', '1', ' =', ' ', '4'],\n",
       " ['<bos>', '6', ' +', ' ', '3', ' =', ' ', '9'],\n",
       " ['<bos>', '6', ' +', ' ', '2', ' =', ' ', '8'],\n",
       " ['<bos>', '1', ' +', ' ', '3', ' =', ' ', '4'],\n",
       " ['<bos>', '3', ' +', ' ', '1', ' =', ' ', '4'],\n",
       " ['<bos>', '2', ' +', ' ', '5', ' =', ' ', '7'],\n",
       " ['<bos>', '2', ' +', ' ', '6', ' =', ' ', '8'],\n",
       " ['<bos>', '7', ' +', ' ', '2', ' =', ' ', '9'],\n",
       " ['<bos>', '1', ' +', ' ', '4', ' =', ' ', '5'],\n",
       " ['<bos>', '7', ' +', ' ', '1', ' =', ' ', '8'],\n",
       " ['<bos>', '1', ' +', ' ', '4', ' =', ' ', '5'],\n",
       " ['<bos>', '5', ' +', ' ', '4', ' =', ' ', '9'],\n",
       " ['<bos>', '3', ' +', ' ', '5', ' =', ' ', '8'],\n",
       " ['<bos>', '2', ' +', ' ', '1', ' =', ' ', '3'],\n",
       " ['<bos>', '3', ' +', ' ', '3', ' =', ' ', '6'],\n",
       " ['<bos>', '2', ' +', ' ', '7', ' =', ' ', '9'],\n",
       " ['<bos>', '1', ' +', ' ', '7', ' =', ' ', '8'],\n",
       " ['<bos>', '1', ' +', ' ', '8', ' =', ' ', '9'],\n",
       " ['<bos>', '2', ' +', ' ', '6', ' =', ' ', '8'],\n",
       " ['<bos>', '2', ' +', ' ', '7', ' =', ' ', '9'],\n",
       " ['<bos>', '1', ' +', ' ', '6', ' =', ' ', '7'],\n",
       " ['<bos>', '6', ' +', ' ', '2', ' =', ' ', '8'],\n",
       " ['<bos>', '7', ' +', ' ', '2', ' =', ' ', '9'],\n",
       " ['<bos>', '2', ' +', ' ', '7', ' =', ' ', '9'],\n",
       " ['<bos>', '3', ' +', ' ', '2', ' =', ' ', '5'],\n",
       " ['<bos>', '6', ' +', ' ', '3', ' =', ' ', '9'],\n",
       " ['<bos>', '4', ' +', ' ', '2', ' =', ' ', '6'],\n",
       " ['<bos>', '3', ' +', ' ', '5', ' =', ' ', '8'],\n",
       " ['<bos>', '4', ' +', ' ', '3', ' =', ' ', '7'],\n",
       " ['<bos>', '3', ' +', ' ', '2', ' =', ' ', '5'],\n",
       " ['<bos>', '5', ' +', ' ', '1', ' =', ' ', '6'],\n",
       " ['<bos>', '2', ' +', ' ', '5', ' =', ' ', '7'],\n",
       " ['<bos>', '1', ' +', ' ', '1', ' =', ' ', '2'],\n",
       " ['<bos>', '2', ' +', ' ', '2', ' =', ' ', '4'],\n",
       " ['<bos>', '1', ' +', ' ', '8', ' =', ' ', '9'],\n",
       " ['<bos>', '3', ' +', ' ', '1', ' =', ' ', '4'],\n",
       " ['<bos>', '6', ' +', ' ', '2', ' =', ' ', '8'],\n",
       " ['<bos>', '1', ' +', ' ', '4', ' =', ' ', '5'],\n",
       " ['<bos>', '3', ' +', ' ', '6', ' =', ' ', '9'],\n",
       " ['<bos>', '6', ' +', ' ', '1', ' =', ' ', '7'],\n",
       " ['<bos>', '6', ' +', ' ', '2', ' =', ' ', '8'],\n",
       " ['<bos>', '6', ' +', ' ', '2', ' =', ' ', '8'],\n",
       " ['<bos>', '3', ' +', ' ', '6', ' =', ' ', '9'],\n",
       " ['<bos>', '2', ' +', ' ', '3', ' =', ' ', '5'],\n",
       " ['<bos>', '2', ' +', ' ', '5', ' =', ' ', '7'],\n",
       " ['<bos>', '6', ' +', ' ', '3', ' =', ' ', '9'],\n",
       " ['<bos>', '6', ' +', ' ', '1', ' =', ' ', '7'],\n",
       " ['<bos>', '3', ' +', ' ', '4', ' =', ' ', '7'],\n",
       " ['<bos>', '4', ' +', ' ', '4', ' =', ' ', '8'],\n",
       " ['<bos>', '3', ' +', ' ', '3', ' =', ' ', '6'],\n",
       " ['<bos>', '2', ' +', ' ', '5', ' =', ' ', '7'],\n",
       " ['<bos>', '1', ' +', ' ', '6', ' =', ' ', '7'],\n",
       " ['<bos>', '3', ' +', ' ', '3', ' =', ' ', '6'],\n",
       " ['<bos>', '3', ' +', ' ', '3', ' =', ' ', '6'],\n",
       " ['<bos>', '8', ' +', ' ', '1', ' =', ' ', '9'],\n",
       " ['<bos>', '4', ' +', ' ', '5', ' =', ' ', '9'],\n",
       " ['<bos>', '3', ' +', ' ', '4', ' =', ' ', '7'],\n",
       " ['<bos>', '3', ' +', ' ', '5', ' =', ' ', '8'],\n",
       " ['<bos>', '1', ' +', ' ', '8', ' =', ' ', '9'],\n",
       " ['<bos>', '2', ' +', ' ', '5', ' =', ' ', '7'],\n",
       " ['<bos>', '2', ' +', ' ', '3', ' =', ' ', '5'],\n",
       " ['<bos>', '7', ' +', ' ', '2', ' =', ' ', '9'],\n",
       " ['<bos>', '6', ' +', ' ', '1', ' =', ' ', '7'],\n",
       " ['<bos>', '7', ' +', ' ', '1', ' =', ' ', '8'],\n",
       " ['<bos>', '7', ' +', ' ', '2', ' =', ' ', '9'],\n",
       " ['<bos>', '1', ' +', ' ', '6', ' =', ' ', '7'],\n",
       " ['<bos>', '2', ' +', ' ', '6', ' =', ' ', '8'],\n",
       " ['<bos>', '3', ' +', ' ', '3', ' =', ' ', '6'],\n",
       " ['<bos>', '1', ' +', ' ', '5', ' =', ' ', '6'],\n",
       " ['<bos>', '1', ' +', ' ', '2', ' =', ' ', '3'],\n",
       " ['<bos>', '1', ' +', ' ', '5', ' =', ' ', '6'],\n",
       " ['<bos>', '4', ' +', ' ', '3', ' =', ' ', '7'],\n",
       " ['<bos>', '7', ' +', ' ', '2', ' =', ' ', '9'],\n",
       " ['<bos>', '5', ' +', ' ', '4', ' =', ' ', '9'],\n",
       " ['<bos>', '5', ' +', ' ', '2', ' =', ' ', '7'],\n",
       " ['<bos>', '1', ' +', ' ', '4', ' =', ' ', '5'],\n",
       " ['<bos>', '2', ' +', ' ', '2', ' =', ' ', '4'],\n",
       " ['<bos>', '4', ' +', ' ', '3', ' =', ' ', '7'],\n",
       " ['<bos>', '1', ' +', ' ', '6', ' =', ' ', '7'],\n",
       " ['<bos>', '3', ' +', ' ', '2', ' =', ' ', '5'],\n",
       " ['<bos>', '1', ' +', ' ', '7', ' =', ' ', '8'],\n",
       " ['<bos>', '8', ' +', ' ', '1', ' =', ' ', '9'],\n",
       " ['<bos>', '5', ' +', ' ', '1', ' =', ' ', '6'],\n",
       " ['<bos>', '6', ' +', ' ', '2', ' =', ' ', '8'],\n",
       " ['<bos>', '2', ' +', ' ', '6', ' =', ' ', '8'],\n",
       " ['<bos>', '3', ' +', ' ', '1', ' =', ' ', '4'],\n",
       " ['<bos>', '6', ' +', ' ', '3', ' =', ' ', '9'],\n",
       " ['<bos>', '3', ' +', ' ', '3', ' =', ' ', '6'],\n",
       " ['<bos>', '1', ' +', ' ', '5', ' =', ' ', '6'],\n",
       " ['<bos>', '4', ' +', ' ', '1', ' =', ' ', '5'],\n",
       " ['<bos>', '4', ' +', ' ', '1', ' =', ' ', '5'],\n",
       " ['<bos>', '5', ' +', ' ', '1', ' =', ' ', '6'],\n",
       " ['<bos>', '4', ' +', ' ', '5', ' =', ' ', '9'],\n",
       " ['<bos>', '6', ' +', ' ', '1', ' =', ' ', '7'],\n",
       " ['<bos>', '2', ' +', ' ', '6', ' =', ' ', '8'],\n",
       " ['<bos>', '6', ' +', ' ', '3', ' =', ' ', '9'],\n",
       " ['<bos>', '5', ' +', ' ', '2', ' =', ' ', '7'],\n",
       " ['<bos>', '7', ' +', ' ', '2', ' =', ' ', '9'],\n",
       " ['<bos>', '6', ' +', ' ', '2', ' =', ' ', '8'],\n",
       " ['<bos>', '2', ' +', ' ', '6', ' =', ' ', '8'],\n",
       " ['<bos>', '1', ' +', ' ', '6', ' =', ' ', '7'],\n",
       " ['<bos>', '1', ' +', ' ', '2', ' =', ' ', '3'],\n",
       " ['<bos>', '1', ' +', ' ', '3', ' =', ' ', '4'],\n",
       " ['<bos>', '8', ' +', ' ', '1', ' =', ' ', '9'],\n",
       " ['<bos>', '3', ' +', ' ', '2', ' =', ' ', '5'],\n",
       " ['<bos>', '1', ' +', ' ', '3', ' =', ' ', '4'],\n",
       " ['<bos>', '2', ' +', ' ', '3', ' =', ' ', '5'],\n",
       " ['<bos>', '5', ' +', ' ', '4', ' =', ' ', '9'],\n",
       " ['<bos>', '2', ' +', ' ', '1', ' =', ' ', '3'],\n",
       " ['<bos>', '4', ' +', ' ', '2', ' =', ' ', '6'],\n",
       " ['<bos>', '3', ' +', ' ', '2', ' =', ' ', '5'],\n",
       " ['<bos>', '5', ' +', ' ', '3', ' =', ' ', '8'],\n",
       " ['<bos>', '3', ' +', ' ', '6', ' =', ' ', '9'],\n",
       " ['<bos>', '2', ' +', ' ', '4', ' =', ' ', '6'],\n",
       " ['<bos>', '3', ' +', ' ', '4', ' =', ' ', '7'],\n",
       " ['<bos>', '8', ' +', ' ', '1', ' =', ' ', '9'],\n",
       " ['<bos>', '2', ' +', ' ', '2', ' =', ' ', '4'],\n",
       " ['<bos>', '2', ' +', ' ', '3', ' =', ' ', '5'],\n",
       " ['<bos>', '6', ' +', ' ', '2', ' =', ' ', '8'],\n",
       " ['<bos>', '3', ' +', ' ', '3', ' =', ' ', '6'],\n",
       " ['<bos>', '1', ' +', ' ', '2', ' =', ' ', '3'],\n",
       " ['<bos>', '5', ' +', ' ', '3', ' =', ' ', '8'],\n",
       " ['<bos>', '3', ' +', ' ', '6', ' =', ' ', '9'],\n",
       " ['<bos>', '2', ' +', ' ', '5', ' =', ' ', '7'],\n",
       " ['<bos>', '5', ' +', ' ', '3', ' =', ' ', '8'],\n",
       " ['<bos>', '3', ' +', ' ', '3', ' =', ' ', '6'],\n",
       " ['<bos>', '3', ' +', ' ', '6', ' =', ' ', '9'],\n",
       " ['<bos>', '1', ' +', ' ', '1', ' =', ' ', '2'],\n",
       " ['<bos>', '2', ' +', ' ', '1', ' =', ' ', '3'],\n",
       " ['<bos>', '5', ' +', ' ', '4', ' =', ' ', '9'],\n",
       " ['<bos>', '7', ' +', ' ', '1', ' =', ' ', '8'],\n",
       " ['<bos>', '1', ' +', ' ', '3', ' =', ' ', '4'],\n",
       " ['<bos>', '3', ' +', ' ', '6', ' =', ' ', '9'],\n",
       " ['<bos>', '4', ' +', ' ', '3', ' =', ' ', '7'],\n",
       " ['<bos>', '2', ' +', ' ', '1', ' =', ' ', '3'],\n",
       " ['<bos>', '3', ' +', ' ', '6', ' =', ' ', '9'],\n",
       " ['<bos>', '8', ' +', ' ', '1', ' =', ' ', '9'],\n",
       " ['<bos>', '2', ' +', ' ', '7', ' =', ' ', '9'],\n",
       " ['<bos>', '4', ' +', ' ', '4', ' =', ' ', '8'],\n",
       " ['<bos>', '6', ' +', ' ', '1', ' =', ' ', '7'],\n",
       " ['<bos>', '1', ' +', ' ', '5', ' =', ' ', '6'],\n",
       " ['<bos>', '1', ' +', ' ', '2', ' =', ' ', '3'],\n",
       " ['<bos>', '1', ' +', ' ', '7', ' =', ' ', '8'],\n",
       " ['<bos>', '2', ' +', ' ', '7', ' =', ' ', '9'],\n",
       " ['<bos>', '2', ' +', ' ', '3', ' =', ' ', '5'],\n",
       " ['<bos>', '2', ' +', ' ', '7', ' =', ' ', '9'],\n",
       " ['<bos>', '3', ' +', ' ', '4', ' =', ' ', '7'],\n",
       " ['<bos>', '1', ' +', ' ', '1', ' =', ' ', '2'],\n",
       " ['<bos>', '3', ' +', ' ', '6', ' =', ' ', '9'],\n",
       " ['<bos>', '1', ' +', ' ', '6', ' =', ' ', '7'],\n",
       " ['<bos>', '6', ' +', ' ', '2', ' =', ' ', '8'],\n",
       " ['<bos>', '1', ' +', ' ', '8', ' =', ' ', '9'],\n",
       " ['<bos>', '5', ' +', ' ', '4', ' =', ' ', '9'],\n",
       " ['<bos>', '1', ' +', ' ', '8', ' =', ' ', '9'],\n",
       " ['<bos>', '4', ' +', ' ', '1', ' =', ' ', '5'],\n",
       " ['<bos>', '2', ' +', ' ', '4', ' =', ' ', '6'],\n",
       " ['<bos>', '1', ' +', ' ', '8', ' =', ' ', '9'],\n",
       " ['<bos>', '1', ' +', ' ', '3', ' =', ' ', '4'],\n",
       " ['<bos>', '4', ' +', ' ', '4', ' =', ' ', '8'],\n",
       " ['<bos>', '5', ' +', ' ', '4', ' =', ' ', '9']]"
      ]
     },
     "execution_count": 138,
     "metadata": {},
     "output_type": "execute_result"
    }
   ],
   "source": [
    "labels"
   ]
  },
  {
   "cell_type": "code",
   "execution_count": 139,
   "id": "beaf9937-b536-4183-b3dd-5ac3176fd9b7",
   "metadata": {},
   "outputs": [
    {
     "data": {
      "text/plain": [
       "'3979264849696576977576836938679798'"
      ]
     },
     "execution_count": 139,
     "metadata": {},
     "output_type": "execute_result"
    }
   ],
   "source": [
    "m.to_string(torch.argmax(clean_logits, dim=1))"
   ]
  },
  {
   "cell_type": "code",
   "execution_count": 140,
   "id": "3137d6c0-4f71-4190-b224-aa899d4cb327",
   "metadata": {
    "scrolled": true
   },
   "outputs": [],
   "source": [
    "label_lens = list(map(lambda x: len(x), labels))"
   ]
  },
  {
   "cell_type": "code",
   "execution_count": 141,
   "id": "9a3c2a5e-1ddd-44e7-bc66-bec9b3d37c94",
   "metadata": {},
   "outputs": [],
   "source": [
    "from collections import Counter\n",
    "\n",
    "label_lens = Counter(label_lens)"
   ]
  },
  {
   "cell_type": "code",
   "execution_count": 142,
   "id": "4920e29f-10c0-42bb-9ceb-e6f532bc9f8d",
   "metadata": {},
   "outputs": [
    {
     "data": {
      "text/plain": [
       "<BarContainer object of 1 artists>"
      ]
     },
     "execution_count": 142,
     "metadata": {},
     "output_type": "execute_result"
    },
    {
     "data": {
      "image/png": "[encoded data removed]",
      "text/plain": [
       "<Figure size 640x480 with 1 Axes>"
      ]
     },
     "metadata": {},
     "output_type": "display_data"
    }
   ],
   "source": [
    "plt.bar(label_lens.keys(), label_lens.values())"
   ]
  },
  {
   "cell_type": "code",
   "execution_count": 148,
   "id": "f53caf55-96f6-4ddf-b47f-c30e034434e0",
   "metadata": {},
   "outputs": [
    {
     "data": {
      "text/plain": [
       "<Axes: >"
      ]
     },
     "execution_count": 148,
     "metadata": {},
     "output_type": "execute_result"
    },
    {
     "data": {
      "image/png": "[encoded data removed]",
      "text/plain": [
       "<Figure size 640x480 with 2 Axes>"
      ]
     },
     "metadata": {},
     "output_type": "display_data"
    }
   ],
   "source": [
    "sns.heatmap(all_block_results[0,:,1:6], cmap=\"flare\")"
   ]
  },
  {
   "cell_type": "code",
   "execution_count": 144,
   "id": "e76117a8-353c-4d72-9131-301663e3ff64",
   "metadata": {},
   "outputs": [
    {
     "data": {
      "text/plain": [
       "<Axes: >"
      ]
     },
     "execution_count": 144,
     "metadata": {},
     "output_type": "execute_result"
    },
    {
     "data": {
      "image/png": "[encoded data removed]",
      "text/plain": [
       "<Figure size 640x480 with 2 Axes>"
      ]
     },
     "metadata": {},
     "output_type": "display_data"
    }
   ],
   "source": [
    "sns.heatmap(all_block_results[1,:,:8], cmap=\"flare\")"
   ]
  },
  {
   "cell_type": "code",
   "execution_count": 145,
   "id": "615256c6-a23a-4f21-9d29-ad40cae7be7b",
   "metadata": {},
   "outputs": [
    {
     "data": {
      "text/plain": [
       "<Axes: >"
      ]
     },
     "execution_count": 145,
     "metadata": {},
     "output_type": "execute_result"
    },
    {
     "data": {
      "image/png": "[encoded data removed]",
      "text/plain": [
       "<Figure size 640x480 with 2 Axes>"
      ]
     },
     "metadata": {},
     "output_type": "display_data"
    }
   ],
   "source": [
    "sns.heatmap(all_block_results[2,:,:8], cmap=\"flare\")"
   ]
  },
  {
   "cell_type": "code",
   "execution_count": null,
   "id": "3adb3755-2bbc-40e6-8185-40e6b2e45843",
   "metadata": {},
   "outputs": [],
   "source": []
  }
 ],
 "metadata": {
  "kernelspec": {
   "display_name": "Python 3 (ipykernel)",
   "language": "python",
   "name": "python3"
  },
  "language_info": {
   "codemirror_mode": {
    "name": "ipython",
    "version": 3
   },
   "file_extension": ".py",
   "mimetype": "text/x-python",
   "name": "python",
   "nbconvert_exporter": "python",
   "pygments_lexer": "ipython3",
   "version": "3.12.2"
  }
 },
 "nbformat": 4,
 "nbformat_minor": 5
}
